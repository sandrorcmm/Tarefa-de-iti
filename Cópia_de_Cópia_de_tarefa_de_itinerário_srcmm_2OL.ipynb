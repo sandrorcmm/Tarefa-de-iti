{
  "cells": [
    {
      "cell_type": "markdown",
      "metadata": {
        "id": "view-in-github",
        "colab_type": "text"
      },
      "source": [
        "<a href=\"https://colab.research.google.com/github/sandrorcmm/Tarefa-de-iti/blob/main/C%C3%B3pia_de_C%C3%B3pia_de_tarefa_de_itiner%C3%A1rio_srcmm_2OL.ipynb\" target=\"_parent\"><img src=\"https://colab.research.google.com/assets/colab-badge.svg\" alt=\"Open In Colab\"/></a>"
      ]
    },
    {
      "cell_type": "code",
      "source": [
        "1. O que são variáveis e Atribuição\n",
        "\n",
        "2. Quais são os quatro principais tipos de variáveis em programação\n",
        "e como elas se diferenciam?\n",
        "\n",
        "3.Como você imprime \"Olá, Mundo!\" em Python?\n",
        "\n",
        "4. Como você solicita a entrada do usuário em Python?"
      ],
      "metadata": {
        "id": "Bc1tTwPqqiVl"
      },
      "execution_count": null,
      "outputs": []
    },
    {
      "cell_type": "code",
      "source": [
        "1) Uma variável é um nome que se refere a um valor.Variáveis são usadas para guardarmos valores que serão usados mais tarde\n",
        "no programa.Atribuição Um comando é uma unidade de código que o interpretador pode executar.\n",
        "\n",
        "2)Tipo Inteiro (int)\n",
        "• Ponto Flutuante ou Decimal (float)\n",
        "• String (str)\n",
        "• Boolean (bool)\n",
        "\n",
        "3)print ('Olá, mundo')\n",
        "\n",
        "4)nome = input('por favor digite seu nome:')\n",
        "\n",
        "print('Olá,',nome'bem-vindo')\n",
        "\n"
      ],
      "metadata": {
        "id": "LoV-HeiUrkhm"
      },
      "execution_count": null,
      "outputs": []
    },
    {
      "cell_type": "code",
      "source": [
        "nome = input('por favor digite seu nome:')\n",
        "\n",
        "print('Olá',nome,',bem vindo')"
      ],
      "metadata": {
        "id": "I_cT5gKOtgaA",
        "outputId": "cdcd794e-c70d-4c98-cb78-0b9e9b8edd6e",
        "colab": {
          "base_uri": "https://localhost:8080/"
        }
      },
      "execution_count": null,
      "outputs": [
        {
          "output_type": "stream",
          "name": "stdout",
          "text": [
            "por favor digite seu nome:sandro\n",
            "Olá sandro ,bem vindo\n"
          ]
        }
      ]
    },
    {
      "cell_type": "code",
      "source": [
        "num1 = 0\n",
        "num2 = 0\n",
        "resultado = 0\n",
        "operação = \"\"\n",
        "\n",
        "print(\"calculadora simples:\")\n",
        "print(\"+\")\n",
        "print(\"-\")\n",
        "print(\"/\")\n",
        "print(\"*\")\n",
        "\n",
        "\n",
        "num1 = int(input(\"Digite o primeiro número: \"))\n",
        "operação = (input(\"Escolha a operação: \"))\n",
        "num2 = int(input(\"Digite o segundo número:  \"))\n",
        "\n",
        "if operação == \"+\":\n",
        "   resultado = num1 + num2\n",
        "elif operação == \"-\":\n",
        "   resultado = num1 - num2\n",
        "elif operação == \"/\":\n",
        "  if operação == \"/\" and num2 == 0:\n",
        "    resultado = print(\"não pode pcr\")\n",
        "else:\n",
        "  resultado = num1 / num2\n",
        "if operação == \"*\":\n",
        "   resultado = num1 * num2\n",
        "else:\n",
        "   resultado = \"Operação inválida\"\n",
        "\n",
        "print(str(num1) + \" \" + str(operação) + \" \" + str(num2) + \"=\" + str(resultado))\n",
        "\n",
        "\n",
        "\n",
        "\n"
      ],
      "metadata": {
        "id": "XNjeR4P5vMCt",
        "outputId": "301f3e92-688e-480d-e601-d680c35a756d",
        "colab": {
          "base_uri": "https://localhost:8080/"
        }
      },
      "execution_count": 25,
      "outputs": [
        {
          "output_type": "stream",
          "name": "stdout",
          "text": [
            "calculadora simples:\n",
            "+\n",
            "-\n",
            "/\n",
            "*\n",
            "Digite o primeiro número: 5\n",
            "Escolha a operação: /\n",
            "Digite o segundo número:  0\n",
            "não pode pcr\n",
            "5 / 0=Operação inválida\n"
          ]
        }
      ]
    },
    {
      "cell_type": "code",
      "source": [
        "nome =str(input(\"Qual seu nome?:\"))\n",
        "print(\"Bom dia\",nome,\"!\")\n",
        "print(\"observe as atribuições dos dias da semana para que nos informe corretamente: segunda=11 ,terça= 22,quarta=33 ,quinta=44 ,sexta=55\")\n",
        "diasemana = int(input(\"por favor,que dia é hoje?:\"))\n",
        "digito = int(input(\"Por favor,diga o ultimo dígito da placa do seu carro:\"))\n",
        "if digito == 1 or 2 and diasemana == 11:\n",
        " print(\"Hoje é segunda e pode rodar\")\n",
        "\n",
        "elif digito == 3 or 4 and diasemana == 22:\n",
        " print(\"Hoje é terça e pode rodar\")\n",
        "\n",
        "elif digito == 5 or 6 and diasemana == 33:\n",
        " print(\"Hoje é quarta e pode rodar\")\n",
        "\n",
        "elif digito == 7 or 8 and diasemana == 44:\n",
        " print(\"Hoje é quinta e pode rodar\")\n",
        "\n",
        "elif digito == 9 or 0 and diasemana == 55:\n",
        " print(\"Hoje é sexta e pode rodar\")\n",
        "\n",
        "else:\n",
        "  print(\"Nao pode rodar\")\n",
        "\n",
        "\n",
        "\n"
      ],
      "metadata": {
        "colab": {
          "base_uri": "https://localhost:8080/"
        },
        "id": "c4VhfopnpfaY",
        "outputId": "a4a39119-f8df-4399-dfb4-021fb7437534"
      },
      "execution_count": null,
      "outputs": [
        {
          "output_type": "stream",
          "name": "stdout",
          "text": [
            "Qual seu nome?:sandro\n",
            "Bom dia sandro !\n",
            "observe as atribuições dos dias da semana para que nos informe corretamente: segunda=11 ,terça= 22,quarta=33 ,quinta=44 ,sexta=55\n",
            "por favor,que dia é hoje?:33\n",
            "Por favor,diga o ultimo dígito da placa do seu carro:5\n",
            "Hoje é quarta e pode rodar\n"
          ]
        }
      ]
    }
  ],
  "metadata": {
    "colab": {
      "provenance": [],
      "include_colab_link": true
    },
    "kernelspec": {
      "display_name": "Python 3",
      "name": "python3"
    }
  },
  "nbformat": 4,
  "nbformat_minor": 0
}